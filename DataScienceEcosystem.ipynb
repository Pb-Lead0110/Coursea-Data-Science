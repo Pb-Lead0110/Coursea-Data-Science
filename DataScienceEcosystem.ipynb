{
 "cells": [
  {
   "cell_type": "markdown",
   "id": "39c3ce07-94b6-460a-9795-0fbdc018e368",
   "metadata": {},
   "source": [
    "# Data Science Tools and Ecosystem"
   ]
  },
  {
   "cell_type": "markdown",
   "id": "d2fcea54-cb66-41f4-93e3-fec286c22b5d",
   "metadata": {},
   "source": [
    "## In this notebook, Data Science Tools and Ecosystem are summarized."
   ]
  },
  {
   "cell_type": "markdown",
   "id": "c932fb5d-faae-412b-ac8e-ea78b429b61d",
   "metadata": {},
   "source": [
    "Some of the popular languages that Dara Scientists are:\n",
    "1. Python\n",
    "2. R\n",
    "3. SQL"
   ]
  },
  {
   "cell_type": "markdown",
   "id": "f2489bfa-f289-43d9-80fd-3724b4efe188",
   "metadata": {},
   "source": [
    "Some of the commonly used libraries used by Data Scientist include:\n",
    "1. Pandas\n",
    "2. NumPy\n",
    "3. TensorFlow"
   ]
  },
  {
   "cell_type": "markdown",
   "id": "5f6f5664-b376-4eae-9bba-5cc1ce3972b4",
   "metadata": {},
   "source": [
    "| Data Science Tools |\n",
    "| -------------------|\n",
    "| RStudio |\n",
    "| Apache Hadoop |\n",
    "| RapidMiner |"
   ]
  },
  {
   "cell_type": "markdown",
   "id": "2a777c51-06ed-4b7d-bc7b-f9e00c1c462f",
   "metadata": {},
   "source": [
    "### Below are a few examples of evaluating arithmetic expressions in Python"
   ]
  },
  {
   "cell_type": "code",
   "execution_count": 16,
   "id": "0d96f5a5-3228-494a-8189-37ee25eeb5f5",
   "metadata": {},
   "outputs": [
    {
     "data": {
      "text/plain": [
       "17"
      ]
     },
     "execution_count": 16,
     "metadata": {},
     "output_type": "execute_result"
    }
   ],
   "source": [
    "# This a simple arithmetic expression to multiply then add integers\n",
    "(3*4)+5"
   ]
  },
  {
   "cell_type": "code",
   "execution_count": 18,
   "id": "422f7d9e-220e-4061-bd5b-38e0fe30225e",
   "metadata": {},
   "outputs": [
    {
     "data": {
      "text/plain": [
       "3.3333333333333335"
      ]
     },
     "execution_count": 18,
     "metadata": {},
     "output_type": "execute_result"
    }
   ],
   "source": [
    "# This will convert 200 minutes to hours by diving by 60\n",
    "200/60"
   ]
  },
  {
   "cell_type": "markdown",
   "id": "37f139ce-655c-4ed3-b0e1-c3451cf5f5d9",
   "metadata": {},
   "source": [
    "### Objectives:\n",
    "- **Some of the popular languages that Dara Scientists**\n",
    "- **Some of the commonly used libraries used by Data Scientist**\n",
    "- **Data Science Tools**\n",
    "- **Few examples of evaluating arithmetic expressions in Python**"
   ]
  },
  {
   "cell_type": "markdown",
   "id": "16c74c8d-9c4b-4b39-8297-5798fa5c4bd5",
   "metadata": {},
   "source": [
    "## Author\n",
    "Paweł Berun"
   ]
  },
  {
   "cell_type": "code",
   "execution_count": null,
   "id": "5fa58ab8-865e-4a1c-99cf-9c52a835e272",
   "metadata": {},
   "outputs": [],
   "source": []
  }
 ],
 "metadata": {
  "kernelspec": {
   "display_name": "Python [conda env:base] *",
   "language": "python",
   "name": "conda-base-py"
  },
  "language_info": {
   "codemirror_mode": {
    "name": "ipython",
    "version": 3
   },
   "file_extension": ".py",
   "mimetype": "text/x-python",
   "name": "python",
   "nbconvert_exporter": "python",
   "pygments_lexer": "ipython3",
   "version": "3.12.7"
  }
 },
 "nbformat": 4,
 "nbformat_minor": 5
}
